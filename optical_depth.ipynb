{
 "cells": [
  {
   "cell_type": "code",
   "execution_count": 23,
   "id": "5618bd42-a7f5-4bf7-8de6-608696dfcaef",
   "metadata": {
    "tags": []
   },
   "outputs": [],
   "source": [
    "import matplotlib\n",
    "import matplotlib.pyplot as plt\n",
    "from matplotlib import cm\n",
    "import numpy as np\n",
    "from scipy.integrate import quad\n",
    "import math\n",
    "import warnings\n",
    "from multiprocessing import Pool\n",
    "warnings.filterwarnings(\"ignore\")\n",
    "Mpc = 3.0857e22  # Mega parsec in meters\n",
    "\n",
    "figuresize = 4\n",
    "plt.rcParams[\"figure.figsize\"] = (figuresize, figuresize*9.7/12)\n",
    "plt.rcParams[\"axes.unicode_minus\"] = False\n",
    "plt.rcParams['svg.fonttype'] = 'none'\n",
    "plt.rcParams['text.usetex'] = False"
   ]
  },
  {
   "cell_type": "markdown",
   "id": "bae85b06",
   "metadata": {},
   "source": [
    "# Optical depth\n",
    "\n",
    "In the following the optical depth $\\tau$ of galaxy clusters with the electron donsity profile `n_e` will be calculated."
   ]
  },
  {
   "cell_type": "markdown",
   "id": "65e1fce1-6b58-44b4-821b-8752cbdf5369",
   "metadata": {},
   "source": [
    "## Parameters definition\n",
    "define all parameters of the galaxy cluster:\n",
    "\n",
    "- `r_c` core radius\n",
    "- `r` border radius\n",
    "- `n_eo` electron delsity\n",
    "- `d` distance to the observer\n",
    "\n",
    "parameters for the velocity profiles VP1 & VP2:\n",
    "- `v_c` core velocity for VP1 in units of c\n",
    "- `r_0` scale radius for VP2\n",
    "- `v_t` scale velocity for VP2 in units of c\n",
    "\n",
    "Inclination `inclination`$\\in (0, 1/2)$ in units of $\\pi$\n",
    "and rotation along the line of sight `ry`$\\in (0, 2\\pi)$.\n",
    "Rotation along z axis `rz` stays zero"
   ]
  },
  {
   "cell_type": "code",
   "execution_count": 24,
   "id": "df2599db-21c9-4e54-aeb1-912c4e60340c",
   "metadata": {},
   "outputs": [],
   "source": [
    "r_c = 0.2 * Mpc  # core radius\n",
    "r = 2.8 * Mpc  # maximum radius\n",
    "\n",
    "n_eo = 2e4  # central electron density\n",
    "d = 1e6 * Mpc  # distance\n",
    "\n",
    "# parameters for VP1 & VP2\n",
    "v_c = 5e-4/3\n",
    "r_0 = 1.2 * Mpc\n",
    "v_t = 8e-3/3\n",
    "\n",
    "# rotation angles\n",
    "inclination = 1/2\n",
    "ry = 0  # rotation angle y-axis - line of sight\n",
    "rx = np.pi * (1/2 - inclination) # rotation angle x-axis - horizontal axis\n",
    "rz = 0  # rotation angle z-axis - vertical axis"
   ]
  },
  {
   "cell_type": "markdown",
   "id": "bc00c914-6a32-4d06-9d6f-e33141bdb6d3",
   "metadata": {},
   "source": [
    "define parameters for images. Resolution `e` along x axis. `e²` points are integrated -> calculation time increases $\\sim e^2$.\n",
    "\n",
    "Viewing angles `c`. $r/d$ corresponds to core radius."
   ]
  },
  {
   "cell_type": "code",
   "execution_count": 25,
   "id": "3b744c28-b117-4ebe-8bb5-e311c441a10a",
   "metadata": {},
   "outputs": [],
   "source": [
    "e = 8*32  # Resolution\n",
    "c = r/d*1.05  # edge limit (angle). r/d is angle for max. radius r"
   ]
  },
  {
   "cell_type": "markdown",
   "id": "43d9f3a1-c50e-448a-8c91-64b0303d676a",
   "metadata": {},
   "source": [
    "definde parameters for relative intensity chnage (CMB parameters) then calculate $G_\\nu$"
   ]
  },
  {
   "cell_type": "code",
   "execution_count": 26,
   "id": "d205cf30-82fb-4c13-9859-87fd2fe9d6fa",
   "metadata": {},
   "outputs": [],
   "source": [
    "sigma_T = 6.652e-29  # thomson cross section\n",
    "h = 6.626e-34  # planck constant\n",
    "k_B = 1.381e-23  # Bolzman constant\n",
    "T = 2.725  # CMB temperature\n",
    "nu = 160.2e9  # CMB peak frequency\n",
    "x = h * nu / k_B / T\n",
    "G_nu = x * math.exp(x) / (math.exp(x) - 1)\n",
    "\n",
    "beta = 2/3  # for beta model"
   ]
  },
  {
   "cell_type": "markdown",
   "id": "ba247cd5-7009-487c-9e54-dabab6bca93b",
   "metadata": {},
   "source": [
    "## Function definition\n",
    "\n",
    "### Electron density\n",
    " - `beta_model`\n",
    " - `n_e` model from *Vikhlinin*"
   ]
  },
  {
   "cell_type": "code",
   "execution_count": 27,
   "id": "6f8df773-9c90-4d73-9ebf-b73c84947f6b",
   "metadata": {},
   "outputs": [],
   "source": [
    "def beta_model(x, y, z, n_eo, r_c, beta):\n",
    "    return n_eo*(1+(x**2+y**2+z**2)/r_c**2)**(-beta * 3/2)\n",
    "\n",
    "\n",
    "def n_e(x, y, z, n_eo, r_c, beta):\n",
    "    r = np.sqrt(x**2+y**2+z**2)/r_c\n",
    "    r_s = 1.7 * Mpc\n",
    "    alpha = 1\n",
    "    beta = 0.7\n",
    "    epsilon = 2.5\n",
    "    return n_eo*r**(-alpha / 2) / (1+r**2)**(3*beta/2 - alpha/2) / (1+(r*r_c/r_s)**3)**(epsilon/2/3)"
   ]
  },
  {
   "cell_type": "markdown",
   "id": "3f5cdd49-19b9-4ca4-af74-433abb1bd398",
   "metadata": {},
   "source": [
    "### Integrands\n",
    "for optical depth with `n_e`"
   ]
  },
  {
   "cell_type": "code",
   "execution_count": 28,
   "id": "b097eb51-e7f3-4040-9c3e-5a785c758941",
   "metadata": {},
   "outputs": [],
   "source": [
    "def integrand_OpticalDepth(t, d, theta, phi, n_eo, r_c, beta, rot):\n",
    "    return sigma_T * n_e(theta*t, t-d, phi*t, n_eo, r_c, beta) * ((theta)**2 + (1)**2 + (phi)**2)**.5"
   ]
  },
  {
   "cell_type": "markdown",
   "id": "ed994d83-1035-4a21-921f-5b45737858da",
   "metadata": {
    "jp-MarkdownHeadingCollapsed": true,
    "tags": []
   },
   "source": [
    "### Velocity profiles and rotation (inclination) irrelevant for optical depth\n",
    "\n",
    "nessesary to run integration function. No effect\n",
    "\n",
    "rotationg velocity vector field with VP1 and VP2. Rotated by an rotation matrix to match inclination and rotation along the line of sight defined above"
   ]
  },
  {
   "cell_type": "code",
   "execution_count": 29,
   "id": "ad82d1c9-f5f8-45ab-a337-2c01d070eb5b",
   "metadata": {},
   "outputs": [],
   "source": [
    "def rotMatrix(rx, ry, rz):  # create rotation matrix\n",
    "    rotx = [[1, 0, 0],\n",
    "            [0, np.cos(rx), np.sin(rx)],\n",
    "            [0, -np.sin(rx), np.cos(rx)]]\n",
    "    roty = [[np.cos(ry), 0, np.sin(ry)],\n",
    "            [0, 1, 0],\n",
    "            [-np.sin(ry), 0, np.cos(ry)]]\n",
    "    rotz = [[np.cos(rz), np.sin(rz), 0],\n",
    "            [-np.sin(rz), np.cos(rz), 0],\n",
    "            [0, 0, 1]]\n",
    "    # firt x-axis, the z-axis, last y-axis. (Keep z-rot = 0)\n",
    "    rot = np.matmul(roty, np.matmul(rotz, rotx))\n",
    "    rot[np.abs(rot) < 1e-5] = 0\n",
    "    return rot.copy()\n",
    "\n",
    "\n",
    "def rotate(x, y, z, rot):  # rotate koordinates rot^T * vec(r) = vec(r_rot)\n",
    "    rotXYZ = np.transpose(\n",
    "        np.matmul(np.transpose(rot), np.array([[x], [y], [z]])))[0]\n",
    "    return rotXYZ[0], rotXYZ[1], rotXYZ[2]\n",
    "\n",
    "\n",
    "def VP1(x, y, z, rot):  # Velocity profile 1 - vctor field, rotated\n",
    "    x, y, z = rotate(x, y, z, rot)\n",
    "    v_norm = np.transpose(np.matmul(rot, np.array(\n",
    "        [[-y], [x], [0]])))[0].copy() / np.sqrt(x**2+y**2)  # normalized field\n",
    "    r = np.sqrt(x**2+y**2)/r_c  # r/r_c\n",
    "    v = v_c * r  # profile\n",
    "    return v * v_norm\n",
    "\n",
    "\n",
    "def VP2(x, y, z, rot):  # Velocity profile 2 - vctor field, rotated\n",
    "    x, y, z = rotate(x, y, z, rot)\n",
    "    v_norm = np.transpose(np.matmul(rot, np.array(\n",
    "        [[-y], [x], [0]])))[0].copy() / np.sqrt(x**2+y**2)  # normalized field\n",
    "    r = np.sqrt(x**2+y**2)/r_0  # r/r_0\n",
    "    v = v_t * r / (1+r**2)  # Profile\n",
    "    return v * v_norm"
   ]
  },
  {
   "cell_type": "markdown",
   "id": "7b6364d8-ec7d-4c90-ad51-c6e298d09392",
   "metadata": {},
   "source": [
    "### Integradion function\n",
    "Integrate integrand `integr` with `args`"
   ]
  },
  {
   "cell_type": "code",
   "execution_count": 30,
   "id": "544989a2-5982-49a2-af99-b891a72963e1",
   "metadata": {},
   "outputs": [],
   "source": [
    "def integrate(args):\n",
    "    Result[Result != 0] = 0\n",
    "    integr, t1, t2, d, Theta, Phi, n_eo, r_c, beta, rot, threats = args[0], args[1],  args[\n",
    "        2],  args[3],  args[4],  args[5],  args[6],  args[7],  args[8],  args[9],  args[10]\n",
    "    section_x = args[11]\n",
    "    section_y = args[12]\n",
    "    sectionsize = int(e/threats)\n",
    "    for i in range(sectionsize*section_x, sectionsize*(section_x+1)):\n",
    "        for j in range(sectionsize*section_y, sectionsize*(section_y+1)):\n",
    "            theta = Theta[i, j]\n",
    "            phi = Phi[i, j]\n",
    "            I = quad(integr, t1[i, j], t2[i, j], args=(\n",
    "                d, theta, phi, n_eo, r_c, beta, rot))\n",
    "            Result[i, j] = np.around(I[0], decimals=10)\n",
    "    return Result.copy()"
   ]
  },
  {
   "cell_type": "markdown",
   "id": "990c614e-c931-43c1-8f0b-3019315f16a5",
   "metadata": {},
   "source": [
    "## Calculation\n",
    "### Limits\n",
    "Prepare vairables for calculation\n",
    "\n",
    "calculate limits t1, t2 for integration along the line of sight. The limits match the galaxy cluster radius along the line of sight.\n",
    "\n",
    "create the rotation maxtix"
   ]
  },
  {
   "cell_type": "code",
   "execution_count": 31,
   "id": "1bdd64e5-5219-47fb-8a53-94aa5a4565b6",
   "metadata": {},
   "outputs": [],
   "source": [
    "# generate variables for calculation\n",
    "theta = np.linspace(-c, c, e)\n",
    "Theta, Phi = np.meshgrid(theta, theta)\n",
    "Result = Theta.copy()\n",
    "t = np.linspace(0, 0, e)\n",
    "t1, t2 = np.meshgrid(t, t)\n",
    "\n",
    "# limits for integral. edge of cluster\n",
    "t1 = (d - np.sqrt(-d**2 * (Phi**2 + Theta**2) + r**2\n",
    "      * (1 + Phi**2 + Theta**2)))/(1 + Phi**2 + Theta**2)\n",
    "t2 = (d + np.sqrt(-d**2 * (Phi**2 + Theta**2) + r**2\n",
    "      * (1 + Phi**2 + Theta**2)))/(1 + Phi**2 + Theta**2)\n",
    "\n",
    "# calculate rotation matrix\n",
    "rot = rotMatrix(rx, ry, rz)"
   ]
  },
  {
   "cell_type": "markdown",
   "id": "a06fa832-f0fd-4f7e-8a55-f38afe9ff4fa",
   "metadata": {},
   "source": [
    "### integrate\n",
    "execute the calculation for all angles for VP1 & VP2. With multiprozessing to speed up calculation"
   ]
  },
  {
   "cell_type": "code",
   "execution_count": 32,
   "id": "3a7d0f81-5f2d-4616-aa1d-c152e12bd5e7",
   "metadata": {},
   "outputs": [
    {
     "name": "stdout",
     "output_type": "stream",
     "text": [
      "CPU times: user 345 ms, sys: 169 ms, total: 514 ms\n",
      "Wall time: 16 s\n"
     ]
    }
   ],
   "source": [
    "%%time\n",
    "# integrate parallel in 8  threats for VP1\n",
    "thrts = 8\n",
    "if __name__ == '__main__':\n",
    "    with Pool() as pool:\n",
    "        results = pool.map(integrate, [(integrand_OpticalDepth, t1, t2, d, Theta, Phi, n_eo,\n",
    "                           r_c, beta, rot, thrts, i, j) for i in range(thrts) for j in range(thrts)])\n",
    "\n",
    "# merge threat  results\n",
    "OpticalDepth, OpticalDepth = np.meshgrid(t, t)\n",
    "for i in range(len(results)):\n",
    "    q = results[i]\n",
    "    OpticalDepth += q"
   ]
  },
  {
   "cell_type": "markdown",
   "id": "a4e599dd-2d61-41ae-9479-93dcafaa8cf0",
   "metadata": {
    "tags": []
   },
   "source": [
    "## Plots\n",
    "### svg's\n",
    "Generate plot for VP1 and VP2. Also a normalized Prot to compare VP1 and VP2 along the x-axis.\n",
    "\n",
    "Save the plots as svg with latex text."
   ]
  },
  {
   "cell_type": "code",
   "execution_count": 35,
   "id": "88175d8a-ed9f-44d9-8a25-db7e98f713c6",
   "metadata": {
    "tags": []
   },
   "outputs": [],
   "source": [
    "# edit colorgradient of diagram\n",
    "colors = cm.get_cmap('coolwarm', 200)\n",
    "colorcrop = colors(np.linspace(.5, 1, 256))\n",
    "newcmp = matplotlib.colors.ListedColormap(colorcrop)\n",
    "# relative intesity plot for VP1 -----------------------------------------------\n",
    "plt.contourf(Theta*d/r_c, Phi*d/r_c, OpticalDepth, 100, cmap=newcmp)\n",
    "plt.colorbar().set_label(\n",
    "    \"\\$\\\\tau\\$\", labelpad=0, y=1.08, rotation=0)\n",
    "plt.xlabel(\"x / \\$r_c\\$\")\n",
    "plt.ylabel(\"z / \\$r_c\\$\")\n",
    "plt.savefig(\"figs/od.svg\")\n",
    "plt.close()\n",
    "\n",
    "# plot cut at x-axis (normalized) ----------------------------------------------\n",
    "plt.plot(Theta[int(e/2)]*d/r_c, OpticalDepth[int(e/2)])\n",
    "plt.ylabel(\"\\$\\\\tau\\$\", labelpad=10)\n",
    "plt.xlabel(\"x / \\$r_c\\$\")\n",
    "plt.savefig(\"figs/od2d.svg\")\n",
    "plt.close()"
   ]
  },
  {
   "cell_type": "markdown",
   "id": "7dad78f2-3b24-4a24-9b7f-426fdde39a62",
   "metadata": {
    "tags": []
   },
   "source": [
    "## show\n",
    "\n",
    "generate plots again but show them this time (optional export as PNG)"
   ]
  },
  {
   "cell_type": "code",
   "execution_count": 34,
   "id": "021e8d4b-f0b9-4ca5-b70f-4089a05fdb9b",
   "metadata": {
    "tags": []
   },
   "outputs": [
    {
     "data": {
      "image/png": "[encoded data removed]",
      "text/plain": [
       "<Figure size 576x465.6 with 2 Axes>"
      ]
     },
     "metadata": {
      "needs_background": "light"
     },
     "output_type": "display_data"
    },
    {
     "data": {
      "image/png": "[encoded data removed]",
      "text/plain": [
       "<Figure size 576x465.6 with 1 Axes>"
      ]
     },
     "metadata": {
      "needs_background": "light"
     },
     "output_type": "display_data"
    }
   ],
   "source": [
    "figuresize = 8\n",
    "plt.rcParams[\"figure.figsize\"] = (figuresize, figuresize*9.7/12)\n",
    "\n",
    "plt.contourf(Theta*d/r_c, Phi*d/r_c, OpticalDepth, 100, cmap=newcmp)\n",
    "plt.colorbar().set_label(\n",
    "    \"$\\\\tau$\", labelpad=0, y=1.08, rotation=0)\n",
    "plt.xlabel(\"x / $r_c$\")\n",
    "plt.ylabel(\"z / $r_c$\")\n",
    "# plt.savefig(\"figs/od.png\")\n",
    "plt.show()\n",
    "\n",
    "# plot cut at x-axis (normalized) ----------------------------------------------\n",
    "plt.plot(Theta[int(e/2)]*d/r_c, OpticalDepth[int(e/2)])\n",
    "plt.ylabel(\"$\\\\tau$\", labelpad=10)\n",
    "plt.xlabel(\"x / $r_c$\")\n",
    "# plt.savefig(\"figs/od2d.png\")\n",
    "plt.show()"
   ]
  },
  {
   "cell_type": "code",
   "execution_count": null,
   "id": "9074a13d-608f-4619-a28f-633388a2cd8b",
   "metadata": {},
   "outputs": [],
   "source": []
  }
 ],
 "metadata": {
  "kernelspec": {
   "display_name": "Python 3 (ipykernel)",
   "language": "python",
   "name": "python3"
  },
  "language_info": {
   "codemirror_mode": {
    "name": "ipython",
    "version": 3
   },
   "file_extension": ".py",
   "mimetype": "text/x-python",
   "name": "python",
   "nbconvert_exporter": "python",
   "pygments_lexer": "ipython3",
   "version": "3.10.4"
  }
 },
 "nbformat": 4,
 "nbformat_minor": 5
}
