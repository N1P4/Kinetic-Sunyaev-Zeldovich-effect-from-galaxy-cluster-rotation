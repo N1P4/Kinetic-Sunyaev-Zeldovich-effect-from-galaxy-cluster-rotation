{
 "cells": [
  {
   "cell_type": "code",
   "execution_count": 1,
   "id": "660f778f-7870-486d-9e2c-0fb67a103aaa",
   "metadata": {},
   "outputs": [],
   "source": [
    "import numpy as np"
   ]
  },
  {
   "cell_type": "markdown",
   "id": "9b422e42-b5b1-4a5e-825a-504b0d2ad792",
   "metadata": {},
   "source": [
    "Set `savecount`"
   ]
  },
  {
   "cell_type": "code",
   "execution_count": 3,
   "id": "52f19c3d-bbc8-4b50-9afb-24d100aac9cc",
   "metadata": {},
   "outputs": [],
   "source": [
    "savecount = 1\n",
    "\n",
    "np.savez_compressed('saves/count.npz', savecount=savecount)\n"
   ]
  },
  {
   "cell_type": "markdown",
   "id": "1251d064-fb79-41c1-bbf1-62837ce88ae5",
   "metadata": {},
   "source": [
    "Read `savecount`"
   ]
  },
  {
   "cell_type": "code",
   "execution_count": 4,
   "id": "479e512e-3725-4db5-8ca4-20fffddd9861",
   "metadata": {},
   "outputs": [
    {
     "name": "stdout",
     "output_type": "stream",
     "text": [
      "1\n"
     ]
    }
   ],
   "source": [
    "savecount = np.load('saves/count.npz')['savecount']\n",
    "# savecount += 1\n",
    "print(savecount)"
   ]
  },
  {
   "cell_type": "code",
   "execution_count": null,
   "id": "68f74759-9e6f-4fda-a6c3-a6c7722d6255",
   "metadata": {},
   "outputs": [],
   "source": []
  }
 ],
 "metadata": {
  "kernelspec": {
   "display_name": "Python 3 (ipykernel)",
   "language": "python",
   "name": "python3"
  },
  "language_info": {
   "codemirror_mode": {
    "name": "ipython",
    "version": 3
   },
   "file_extension": ".py",
   "mimetype": "text/x-python",
   "name": "python",
   "nbconvert_exporter": "python",
   "pygments_lexer": "ipython3",
   "version": "3.10.4"
  }
 },
 "nbformat": 4,
 "nbformat_minor": 5
}
