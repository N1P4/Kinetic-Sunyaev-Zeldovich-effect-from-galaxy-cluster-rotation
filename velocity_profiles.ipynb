{
 "cells": [
  {
   "cell_type": "code",
   "execution_count": 1,
   "id": "5618bd42-a7f5-4bf7-8de6-608696dfcaef",
   "metadata": {
    "jupyter": {
     "source_hidden": true
    },
    "tags": []
   },
   "outputs": [],
   "source": [
    "#!/usr/bin/python3\n",
    "\n",
    "import matplotlib.pyplot as plt\n",
    "import numpy as np\n",
    "import warnings\n",
    "\n",
    "warnings.filterwarnings(\"ignore\")\n",
    "Mpc = 3.0857e22  # Mega parsec in meters\n",
    "\n",
    "figuresize = 4\n",
    "plt.rcParams[\"figure.figsize\"] = (figuresize, figuresize*3/5)\n",
    "plt.rcParams[\"axes.unicode_minus\"] = False\n",
    "plt.rcParams['svg.fonttype'] = 'none'"
   ]
  },
  {
   "cell_type": "markdown",
   "id": "e3430eed",
   "metadata": {},
   "source": [
    "# Velocity profiles\n",
    "\n",
    "In the following two velocity profiles for galaxy clsuters will be calculated and visualized in a plot for comparison."
   ]
  },
  {
   "cell_type": "markdown",
   "id": "65e1fce1-6b58-44b4-821b-8752cbdf5369",
   "metadata": {},
   "source": [
    "## Parameters definition\n",
    "define parameters of the galaxy cluster:\n",
    "\n",
    "- `r_c` core radius\n",
    "- `r` border radius\n",
    "\n",
    "parameters for the velocity profiles VP1 & VP2:\n",
    "- `v_c` core velocity for VP1 in units of c\n",
    "- `r_0` scale radius for VP2\n",
    "- `v_t` scale velocity for VP2 in units of c"
   ]
  },
  {
   "cell_type": "code",
   "execution_count": 2,
   "id": "df2599db-21c9-4e54-aeb1-912c4e60340c",
   "metadata": {},
   "outputs": [],
   "source": [
    "r_c = 0.2 * Mpc  # core radius\n",
    "r = 2.8 * Mpc  # maximum radius\n",
    "\n",
    "# parameters for VP1 & VP2\n",
    "v_c = 50\n",
    "r_0 = 1.2 * Mpc\n",
    "v_t = 800"
   ]
  },
  {
   "cell_type": "markdown",
   "id": "bc00c914-6a32-4d06-9d6f-e33141bdb6d3",
   "metadata": {},
   "source": [
    "define parameters for images. Resolution `e` along x axis."
   ]
  },
  {
   "cell_type": "code",
   "execution_count": 3,
   "id": "3b744c28-b117-4ebe-8bb5-e311c441a10a",
   "metadata": {},
   "outputs": [],
   "source": [
    "e = 8*8  # Resolution\n",
    "radius = np.linspace(0, r, e)"
   ]
  },
  {
   "cell_type": "markdown",
   "id": "34ebe22f-34d4-4613-90f8-1bfa19c6d1aa",
   "metadata": {},
   "source": [
    "## velocity profiles"
   ]
  },
  {
   "cell_type": "code",
   "execution_count": 4,
   "id": "76f28abd-8651-440f-b702-6786f486a08b",
   "metadata": {},
   "outputs": [],
   "source": [
    "def VP1(r):\n",
    "    r = r/r_c\n",
    "    return r * v_c\n",
    "\n",
    "\n",
    "def VP2(r):\n",
    "    r = r/r_0\n",
    "    v = v_t * r / (1+r**2)\n",
    "    return v"
   ]
  },
  {
   "cell_type": "markdown",
   "id": "97150244-44ff-4a32-ab3e-2bff482e45c5",
   "metadata": {},
   "source": [
    "## Calculate\n",
    "\n",
    "the VP1 and VP2\n",
    "\n",
    "return average value"
   ]
  },
  {
   "cell_type": "code",
   "execution_count": 5,
   "id": "7d388b51-bbfd-44d7-bfc6-21a4ff390ca1",
   "metadata": {},
   "outputs": [
    {
     "name": "stdout",
     "output_type": "stream",
     "text": [
      "average velocity(VP1) 349.99999999999983\n",
      "average velocity(VP2) 316.638327407126\n"
     ]
    }
   ],
   "source": [
    "V1 = VP1(radius)\n",
    "V2 = VP2(radius)\n",
    "print(\"average velocity(VP1)\", np.average(V1))\n",
    "print(\"average velocity(VP2)\", np.average(V2))"
   ]
  },
  {
   "cell_type": "code",
   "execution_count": 6,
   "id": "6f8df773-9c90-4d73-9ebf-b73c84947f6b",
   "metadata": {},
   "outputs": [],
   "source": [
    "def beta_model(x, y, z, n_eo, r_c, beta):\n",
    "    return n_eo*(1+(x**2+y**2+z**2)/r_c**2)**(-beta * 3/2)\n",
    "\n",
    "\n",
    "def n_e(x, y, z, n_eo, r_c, beta):\n",
    "    r = np.sqrt(x**2+y**2+z**2)/r_c\n",
    "    r_s = 1.7 * Mpc\n",
    "    alpha = 1\n",
    "    beta = 0.7\n",
    "    epsilon = 2.5\n",
    "    return n_eo*r**(-alpha / 2) / (1+r**2)**(3*beta/2 - alpha/2) / (1+(r*r_c/r_s)**3)**(epsilon/2/3)"
   ]
  },
  {
   "cell_type": "markdown",
   "id": "3f5cdd49-19b9-4ca4-af74-433abb1bd398",
   "metadata": {},
   "source": [
    "### Integrands\n",
    "for relative intensity chnage with VP1 and VP2"
   ]
  },
  {
   "cell_type": "code",
   "execution_count": 7,
   "id": "b097eb51-e7f3-4040-9c3e-5a785c758941",
   "metadata": {},
   "outputs": [],
   "source": [
    "def integrand_relInt_VP1(t, d, theta, phi, n_eo, r_c, beta, rot):\n",
    "    return G_nu * sigma_T * np.dot(VP1(theta*t, t-d, phi*t, rot), np.array([theta, 1, phi])) * n_e(theta*t, t-d, phi*t, n_eo, r_c, beta)\n",
    "\n",
    "\n",
    "def integrand_relInt_VP2(t, d, theta, phi, n_eo, r_c, beta, rot):\n",
    "    return G_nu * sigma_T * np.dot(VP2(theta*t, t-d, phi*t, rot), np.array([theta, 1, phi])) * n_e(theta*t, t-d, phi*t, n_eo, r_c, beta)"
   ]
  },
  {
   "cell_type": "markdown",
   "id": "ed994d83-1035-4a21-921f-5b45737858da",
   "metadata": {},
   "source": [
    "### Velocity profiles and rotation (inclination)\n",
    "\n",
    "rotationg velocity vector field with VP1 and VP2. Rotated by an rotation matrix to match inclination and rotation along the line of sight defined above"
   ]
  },
  {
   "cell_type": "code",
   "execution_count": 8,
   "id": "ad82d1c9-f5f8-45ab-a337-2c01d070eb5b",
   "metadata": {},
   "outputs": [],
   "source": [
    "def VP1(r):\n",
    "    v_c = 50\n",
    "    r = r/r_c\n",
    "    return r * v_c\n",
    "\n",
    "\n",
    "def VP2(r):\n",
    "    r_0 = 1.2\n",
    "    r = r/r_0\n",
    "    v_t = 800\n",
    "    v = v_t * r / (1+r**2)\n",
    "    return v"
   ]
  },
  {
   "cell_type": "markdown",
   "id": "7b6364d8-ec7d-4c90-ad51-c6e298d09392",
   "metadata": {},
   "source": [
    "### Integradion function\n",
    "Integrate integrand `integr` with `args`"
   ]
  },
  {
   "cell_type": "code",
   "execution_count": 9,
   "id": "544989a2-5982-49a2-af99-b891a72963e1",
   "metadata": {},
   "outputs": [],
   "source": [
    "def integrate(args):\n",
    "    Result[Result != 0] = 0\n",
    "    integr, t1, t2, d, Theta, Phi, n_eo, r_c, beta, rot, threats = args[0], args[1],  args[\n",
    "        2],  args[3],  args[4],  args[5],  args[6],  args[7],  args[8],  args[9],  args[10]\n",
    "    section_x = args[11]\n",
    "    section_y = args[12]\n",
    "    sectionsize = int(e/threats)\n",
    "    for i in range(sectionsize*section_x, sectionsize*(section_x+1)):\n",
    "        for j in range(sectionsize*section_y, sectionsize*(section_y+1)):\n",
    "            theta = Theta[i, j]\n",
    "            phi = Phi[i, j]\n",
    "            I = quad(integr, t1[i, j], t2[i, j], args=(\n",
    "                d, theta, phi, n_eo, r_c, beta, rot))\n",
    "            Result[i, j] = np.around(I[0], decimals=10)\n",
    "    return Result.copy()"
   ]
  },
  {
   "cell_type": "markdown",
   "id": "a4e599dd-2d61-41ae-9479-93dcafaa8cf0",
   "metadata": {},
   "source": [
    "## Plots\n",
    "### svg's\n",
    "Generate plot for VP1 and VP2. Also a normalized Prot to compare VP1 and VP2 along the x-axis.\n",
    "\n",
    "Save the plots as svg with latex text."
   ]
  },
  {
   "cell_type": "code",
   "execution_count": 10,
   "id": "88175d8a-ed9f-44d9-8a25-db7e98f713c6",
   "metadata": {
    "tags": []
   },
   "outputs": [],
   "source": [
    "figuresize = 8\n",
    "plt.rcParams[\"figure.figsize\"] = (figuresize, figuresize*3/5)\n",
    "plt.plot(radius/r_c, V1, label='VP1')\n",
    "plt.plot(radius/r_c, V2, label='VP2')\n",
    "plt.xlabel(\"r / \\$r_c\\$\")\n",
    "plt.ylabel(\"\\$v / \\si{\\kilo\\meter\\per\\second} \\$\")\n",
    "plt.legend()\n",
    "plt.savefig(\"figs/velocityProfiles.svg\")\n",
    "plt.close()"
   ]
  },
  {
   "cell_type": "markdown",
   "id": "7dad78f2-3b24-4a24-9b7f-426fdde39a62",
   "metadata": {},
   "source": [
    "### show\n",
    "\n",
    "generate plots again but show them this time (optional export as PNG)"
   ]
  },
  {
   "cell_type": "code",
   "execution_count": 11,
   "id": "021e8d4b-f0b9-4ca5-b70f-4089a05fdb9b",
   "metadata": {
    "tags": []
   },
   "outputs": [
    {
     "data": {
      "image/png": "[encoded data removed]",
      "text/plain": [
       "<Figure size 576x345.6 with 1 Axes>"
      ]
     },
     "metadata": {
      "needs_background": "light"
     },
     "output_type": "display_data"
    }
   ],
   "source": [
    "figuresize = 4\n",
    "plt.rcParams[\"figure.figsize\"] = (figuresize, figuresize*3/5)\n",
    "plt.plot(radius/r_c, V1, label='VP1')\n",
    "plt.plot(radius/r_c, V2, label='VP2')\n",
    "plt.xlabel(\"r / $r_c$\")\n",
    "plt.ylabel(\"$v$ / km s$^{-1}$\")\n",
    "plt.legend()\n",
    "plt.title(\"velocity profiles\")\n",
    "# plt.savefig(\"figs/P2d-solidBody-2over\"+str(angle)+\"pi.png\")\n",
    "plt.show()"
   ]
  }
 ],
 "metadata": {
  "kernelspec": {
   "display_name": "Python 3 (ipykernel)",
   "language": "python",
   "name": "python3"
  },
  "language_info": {
   "codemirror_mode": {
    "name": "ipython",
    "version": 3
   },
   "file_extension": ".py",
   "mimetype": "text/x-python",
   "name": "python",
   "nbconvert_exporter": "python",
   "pygments_lexer": "ipython3",
   "version": "3.10.4"
  }
 },
 "nbformat": 4,
 "nbformat_minor": 5
}
